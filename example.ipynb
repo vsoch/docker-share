{
 "cells": [
  {
   "cell_type": "markdown",
   "metadata": {},
   "source": [
    "# continuous-build\n",
    "\n",
    "Hi friend! You've found the continuous build example notebook, provided in [this Github repository](https://www.github.com/binder-examples/continuous-build) and the container it builds. For complete documentation, we will direct you to the [repo2docker](https://repo2docker.readthedocs.io/en/latest/deploy.html) pages, on ReadTheDocs.\n",
    "\n",
    "## This Notebook\n",
    "This notebook is a very simple dummy example to show how the `requirements.txt` served in the repository root is used to install dependencies to the container, allowing you to see some fabulous pokemon ascii in the sections below. This is all made possible by [repo2docker](https://www.github.com/jupyter/repo2docker), and you are encouraged to provide your notebooks with this software to ensure reproducible use, and mitigate the hassle of installing dependencies.\n",
    "\n",
    "If you want to get help, or request an example, please let us know on the continuous-build [issues board](https://www.github.com/binder-examples/continuous-build/issues) or the [repo2docker](https://www.github.com/jupyter/repo2docker/issues) issues board, depending on your issue."
   ]
  },
  {
   "cell_type": "code",
   "execution_count": 5,
   "metadata": {},
   "outputs": [],
   "source": [
    "# Here is a dependency in our requirements.txt, pokemon!\n",
    "import pokemon"
   ]
  },
  {
   "cell_type": "code",
   "execution_count": 9,
   "metadata": {},
   "outputs": [
    {
     "name": "stdout",
     "output_type": "stream",
     "text": [
      "@@@@@@@@@@@@.?%..%%.@@@@@@@@@@@@@@@@@@@@@@@@@@@@@@@@@@@@@@@@\n",
      "@@@@@@@@%*.........****.*%@@@@@@@@@@@@@@@@@@@@@@@@@@@@@@@@@@\n",
      "@@@@@@?.+S%?%.+++++.....++?.*..+@@@@@@@@@@@@@@@@@@@@@@@@@@@@\n",
      "@@@@@@.......%...**+.++..%+.+##.#@@@@@@@@@@@@@@@@@@@@@@@@@@@\n",
      "@@@@@,.%......%...S....?+%SSSS+S.@@@@@@@@@@@@@@@@@@@@@@@@@@@\n",
      "@@@@@@SS*..+***..........*+?+S+?.S@@@@@@@@@@@@@@@@@@@@@@@@@@\n",
      "@@@@@@@:+*..,,,:::*S+......*.++++.*@@@@@@@@@@@@@@@@@@@@@@@@@\n",
      "@@@@@@@@@%S@,,,:::#.:%........+++++@@@@@@@@@@@@@@@@@@@@@@@@@\n",
      "@@@@@@@@@@S,,,::::.?..*........++++,@@@@@@@@@@@@@@@@@@@@@@@@\n",
      "@@@@@@@@@@,,::::,,::::**....+%*.+++,@@@@@@@@@@@@@@@@@@@@@@@@\n",
      "@@@@@@@@@@.S,@+,:::::::*:*.....%++S@@@@@@@@@@@@@@@@@@@@@@@@@\n",
      "@@@@@@@@@@@@@@@@@.:::::.*...*..S++@@@@@@@@@@@@@@@@@@@@@@@@@@\n",
      "@@@@@@@@@@@@@@@@@@,:::,@.%+++++S+@@@@@@@@@@@@@@@@@@.*..?@@@@\n",
      "@@@@@@@@@@@@@@@@@@,:::,@@@@@@@@@@@@@@@@@@@@@@@@@@@+....++@@@\n",
      "@@@@@@@@@@@@@@@S..,::::S%*@@@@@@@@@@@@@@@@@@@@+...++++++++++\n",
      "@@@@@@@@:.,,,,:+::::::::*%+:*,,#@@@@@@@@@@@@@+....+.#S.S+...\n",
      "@@@@@@@,,,:.,,:,::::::,::::::,#::,.@@@@@@@@@@@.++++%*.#+++++\n",
      "@@@@@@@@.,,,,,,:?,,,,,,?::::::::,@@@@@@@@@@@@@@@@@S?::S+,,@@\n",
      "@@@@@@@*,,,:,++SS:,,,,,?S+%:::::,,@@@@@@@@@@@@@@@@,,::@@@@@@\n",
      "@@@@@@@%+%?++....*@,,,,SS+#S?S+@@@@@@@@@@@@@@@@@@+,,:.@@@@@@\n",
      "@@@@:.+..S+*........*.S...S%S++@@@@@@@@@@@@@@@@@.,,:.@@@@@@@\n",
      "@@@,....S%%............?.+.++S#%@@@@@@@@@@@@@@+,,,::@@@@@@@@\n",
      "@@@@%S+S.+S..............?S+?.++%@@@@@@@@@@+,,,,::%@@@@@@@@@\n",
      "@@@@@@.......................++++%@@@@:%*,,,,,::,:@@@@@@@@@@\n",
      "@@@@@@?...+?++.....+++.......+++++.******::::::?@@@@@@@@@@@@\n",
      "@@@@@@:....+?+++++++++?.....++++++%******::::%@@@@@@@@@@@@@@\n",
      "@@@@@@@@.+++++#++++++++.++++++S++++:******::@@@@@@@@@@@@@@@@\n",
      "@@@@@@@@@@@.++++..++++++.++++++++++:***:%@@@@@@@@@@@@@@@@@@@\n",
      "@@@@@@@@@@@@@.+++.@@@@*????#%++++++?@@@@@@@@@@@@@@@@@@@@@@@@\n",
      "@@@@@@@@@@@*..+++:@@@@@@@@@@@@@@++++#@@@@@@@@@@@@@@@@@@@@@@@\n",
      "@@@@@@%.S%S.++++?@@@@@@@@@@@@@@@S+++++@@@@@@@@@@@@@@@@@@@@@@\n",
      "@@@S.S?+SSS+++++*@@@@@@@@@@@@@%?...%?.@@@@@@@@@@@@@@@@@@@@@@\n",
      "@%S?+SSSSSS+.@@@@@@@@@@@@@@@.*SS++%SSS+@@@@@@@@@@@@@@@@@@@@@\n",
      "@,.SSS%.:@@@@@@@@@@@@@@@@@@S.SSSS#+SSSS+@@@@@@@@@@@@@@@@@@@@\n",
      "@@@@@@@@@@@@@@@@@@@@@@@@@@@.SSSS,%SSSSSS@@@@@@@@@@@@@@@@@@@@\n",
      "@@@@@@@@@@@@@@@@@@@@@@@@@@,S+.@@@%SS+?@@@@@@@@@@@@@@@@@@@@@@\n",
      "\n",
      "dinosaur\n"
     ]
    }
   ],
   "source": [
    "# What is your Pokemon avatar?\n",
    "from pokemon.skills import get_avatar\n",
    "avatar = get_avatar('dinosaur')"
   ]
  },
  {
   "cell_type": "markdown",
   "metadata": {},
   "source": [
    "## How does this function work?\n",
    "\n",
    "### 1. Name Conversion\n",
    "First we convert the trainer name into a number"
   ]
  },
  {
   "cell_type": "code",
   "execution_count": 16,
   "metadata": {},
   "outputs": [
    {
     "name": "stdout",
     "output_type": "stream",
     "text": [
      "dinosaur is trainer number 89518204\n"
     ]
    }
   ],
   "source": [
    "from pokemon.skills import get_trainer\n",
    "\n",
    "# The name of the trainer (me) is dinosaur\n",
    "name = 'dinosaur'\n",
    "\n",
    "# Here is the number for the trainer\n",
    "trainer = get_trainer(name)\n",
    "print('%s is trainer number %s' %(name, trainer))"
   ]
  },
  {
   "cell_type": "markdown",
   "metadata": {},
   "source": [
    "### 2. Catch em' All\n",
    "We then catch a complete list of Pokemon, and derive a unique index into it using the trainer identification number."
   ]
  },
  {
   "cell_type": "code",
   "execution_count": 18,
   "metadata": {},
   "outputs": [
    {
     "name": "stdout",
     "output_type": "stream",
     "text": [
      "The pid of trainer dinosaur is 286\n"
     ]
    }
   ],
   "source": [
    "from pokemon.skills import catch_em_all\n",
    "\n",
    "# Then we get a complete \n",
    "pokemons = catch_em_all()\n",
    "\n",
    "# The IDs are numbers between 1 and the max\n",
    "number_pokemons = len(pokemons)\n",
    "\n",
    "pid = str(trainer % number_pokemons)\n",
    "print('The pid of trainer %s is %s' %(name, pid))"
   ]
  },
  {
   "cell_type": "markdown",
   "metadata": {},
   "source": [
    "### 3. Catch Away!\n",
    "We then retrieve the pokemon, including the ascii and complete metadata about the pokemon."
   ]
  },
  {
   "cell_type": "code",
   "execution_count": 24,
   "metadata": {},
   "outputs": [
    {
     "name": "stdout",
     "output_type": "stream",
     "text": [
      "{\n",
      "    \"286\": {\n",
      "        \"abilities\": [\n",
      "            \"effect spore\",\n",
      "            \"poison heal\",\n",
      "            \"technician\"\n",
      "        ],\n",
      "        \"height\": 1.19,\n",
      "        \"id\": 286,\n",
      "        \"japanese\": \"Kinogassa\",\n",
      "        \"link\": \"http://pokemondb.net/pokedex/breloom\",\n",
      "        \"name\": \"Breloom\",\n",
      "        \"type\": [\n",
      "            \"grass\",\n",
      "            \"fighting\"\n",
      "        ],\n",
      "        \"weight\": 86.4\n",
      "    }\n",
      "}\n"
     ]
    }
   ],
   "source": [
    "from pokemon.skills import get_pokemon\n",
    "import json # for pretty printing\n",
    "\n",
    "# Here is the complete pokemon\n",
    "pokemon = get_pokemon(pid=pid,pokemons=pokemons)\n",
    "\n",
    "# And this is the avatar printed to the screen, with the addition of the name\n",
    "avatar = pokemon[pid][\"ascii\"]\n",
    "\n",
    "# Let's remove the avatar string (it's long and ugly) and print the remaining data, followed by the avatar!\n",
    "del pokemon[pid]['ascii']\n",
    "print(json.dumps(pokemon, indent=4, sort_keys=True))"
   ]
  },
  {
   "cell_type": "markdown",
   "metadata": {},
   "source": [
    "And here is our Pokemon, who we now know to be \"Breloom,\" the grass fighter! :D"
   ]
  },
  {
   "cell_type": "code",
   "execution_count": 25,
   "metadata": {},
   "outputs": [
    {
     "name": "stdout",
     "output_type": "stream",
     "text": [
      "@@@@@@@@@@@@.?%..%%.@@@@@@@@@@@@@@@@@@@@@@@@@@@@@@@@@@@@@@@@\n",
      "@@@@@@@@%*.........****.*%@@@@@@@@@@@@@@@@@@@@@@@@@@@@@@@@@@\n",
      "@@@@@@?.+S%?%.+++++.....++?.*..+@@@@@@@@@@@@@@@@@@@@@@@@@@@@\n",
      "@@@@@@.......%...**+.++..%+.+##.#@@@@@@@@@@@@@@@@@@@@@@@@@@@\n",
      "@@@@@,.%......%...S....?+%SSSS+S.@@@@@@@@@@@@@@@@@@@@@@@@@@@\n",
      "@@@@@@SS*..+***..........*+?+S+?.S@@@@@@@@@@@@@@@@@@@@@@@@@@\n",
      "@@@@@@@:+*..,,,:::*S+......*.++++.*@@@@@@@@@@@@@@@@@@@@@@@@@\n",
      "@@@@@@@@@%S@,,,:::#.:%........+++++@@@@@@@@@@@@@@@@@@@@@@@@@\n",
      "@@@@@@@@@@S,,,::::.?..*........++++,@@@@@@@@@@@@@@@@@@@@@@@@\n",
      "@@@@@@@@@@,,::::,,::::**....+%*.+++,@@@@@@@@@@@@@@@@@@@@@@@@\n",
      "@@@@@@@@@@.S,@+,:::::::*:*.....%++S@@@@@@@@@@@@@@@@@@@@@@@@@\n",
      "@@@@@@@@@@@@@@@@@.:::::.*...*..S++@@@@@@@@@@@@@@@@@@@@@@@@@@\n",
      "@@@@@@@@@@@@@@@@@@,:::,@.%+++++S+@@@@@@@@@@@@@@@@@@.*..?@@@@\n",
      "@@@@@@@@@@@@@@@@@@,:::,@@@@@@@@@@@@@@@@@@@@@@@@@@@+....++@@@\n",
      "@@@@@@@@@@@@@@@S..,::::S%*@@@@@@@@@@@@@@@@@@@@+...++++++++++\n",
      "@@@@@@@@:.,,,,:+::::::::*%+:*,,#@@@@@@@@@@@@@+....+.#S.S+...\n",
      "@@@@@@@,,,:.,,:,::::::,::::::,#::,.@@@@@@@@@@@.++++%*.#+++++\n",
      "@@@@@@@@.,,,,,,:?,,,,,,?::::::::,@@@@@@@@@@@@@@@@@S?::S+,,@@\n",
      "@@@@@@@*,,,:,++SS:,,,,,?S+%:::::,,@@@@@@@@@@@@@@@@,,::@@@@@@\n",
      "@@@@@@@%+%?++....*@,,,,SS+#S?S+@@@@@@@@@@@@@@@@@@+,,:.@@@@@@\n",
      "@@@@:.+..S+*........*.S...S%S++@@@@@@@@@@@@@@@@@.,,:.@@@@@@@\n",
      "@@@,....S%%............?.+.++S#%@@@@@@@@@@@@@@+,,,::@@@@@@@@\n",
      "@@@@%S+S.+S..............?S+?.++%@@@@@@@@@@+,,,,::%@@@@@@@@@\n",
      "@@@@@@.......................++++%@@@@:%*,,,,,::,:@@@@@@@@@@\n",
      "@@@@@@?...+?++.....+++.......+++++.******::::::?@@@@@@@@@@@@\n",
      "@@@@@@:....+?+++++++++?.....++++++%******::::%@@@@@@@@@@@@@@\n",
      "@@@@@@@@.+++++#++++++++.++++++S++++:******::@@@@@@@@@@@@@@@@\n",
      "@@@@@@@@@@@.++++..++++++.++++++++++:***:%@@@@@@@@@@@@@@@@@@@\n",
      "@@@@@@@@@@@@@.+++.@@@@*????#%++++++?@@@@@@@@@@@@@@@@@@@@@@@@\n",
      "@@@@@@@@@@@*..+++:@@@@@@@@@@@@@@++++#@@@@@@@@@@@@@@@@@@@@@@@\n",
      "@@@@@@%.S%S.++++?@@@@@@@@@@@@@@@S+++++@@@@@@@@@@@@@@@@@@@@@@\n",
      "@@@S.S?+SSS+++++*@@@@@@@@@@@@@%?...%?.@@@@@@@@@@@@@@@@@@@@@@\n",
      "@%S?+SSSSSS+.@@@@@@@@@@@@@@@.*SS++%SSS+@@@@@@@@@@@@@@@@@@@@@\n",
      "@,.SSS%.:@@@@@@@@@@@@@@@@@@S.SSSS#+SSSS+@@@@@@@@@@@@@@@@@@@@\n",
      "@@@@@@@@@@@@@@@@@@@@@@@@@@@.SSSS,%SSSSSS@@@@@@@@@@@@@@@@@@@@\n",
      "@@@@@@@@@@@@@@@@@@@@@@@@@@,S+.@@@%SS+?@@@@@@@@@@@@@@@@@@@@@@\n"
     ]
    }
   ],
   "source": [
    "print(avatar)"
   ]
  },
  {
   "cell_type": "markdown",
   "metadata": {},
   "source": [
    "Thanks for using this notebook friend! Don't be afraid to reach out if you have questions or need any help :)"
   ]
  },
  {
   "cell_type": "code",
   "execution_count": null,
   "metadata": {},
   "outputs": [],
   "source": []
  }
 ],
 "metadata": {
  "kernelspec": {
   "display_name": "Python 3",
   "language": "python",
   "name": "python3"
  },
  "language_info": {
   "codemirror_mode": {
    "name": "ipython",
    "version": 3
   },
   "file_extension": ".py",
   "mimetype": "text/x-python",
   "name": "python",
   "nbconvert_exporter": "python",
   "pygments_lexer": "ipython3",
   "version": "3.6.4"
  }
 },
 "nbformat": 4,
 "nbformat_minor": 2
}
